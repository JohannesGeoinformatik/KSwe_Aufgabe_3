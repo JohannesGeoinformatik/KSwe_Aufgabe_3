{
 "cells": [
  {
   "cell_type": "markdown",
   "metadata": {},
   "source": [
    "# Punktausgabe (Version 1.00)\n",
    "Das folgende Skript konvertiert eine Punktdatei im CSV-Format in eine XML-Datei."
   ]
  },
  {
   "cell_type": "code",
   "execution_count": 27,
   "metadata": {},
   "outputs": [],
   "source": [
    "import pandas as pd\n",
    "import xml.etree.cElementTree as ET"
   ]
  },
  {
   "cell_type": "code",
   "execution_count": 28,
   "metadata": {},
   "outputs": [
    {
     "data": {
      "text/html": [
       "<div>\n",
       "<style scoped>\n",
       "    .dataframe tbody tr th:only-of-type {\n",
       "        vertical-align: middle;\n",
       "    }\n",
       "\n",
       "    .dataframe tbody tr th {\n",
       "        vertical-align: top;\n",
       "    }\n",
       "\n",
       "    .dataframe thead th {\n",
       "        text-align: right;\n",
       "    }\n",
       "</style>\n",
       "<table border=\"1\" class=\"dataframe\">\n",
       "  <thead>\n",
       "    <tr style=\"text-align: right;\">\n",
       "      <th></th>\n",
       "      <th>id</th>\n",
       "      <th>breite</th>\n",
       "      <th>laenge</th>\n",
       "      <th>stadt</th>\n",
       "    </tr>\n",
       "  </thead>\n",
       "  <tbody>\n",
       "    <tr>\n",
       "      <th>0</th>\n",
       "      <td>1</td>\n",
       "      <td>7.2183</td>\n",
       "      <td>51.4754</td>\n",
       "      <td>Bochum</td>\n",
       "    </tr>\n",
       "    <tr>\n",
       "      <th>1</th>\n",
       "      <td>2</td>\n",
       "      <td>7.0109</td>\n",
       "      <td>51.4572</td>\n",
       "      <td>Essen</td>\n",
       "    </tr>\n",
       "  </tbody>\n",
       "</table>\n",
       "</div>"
      ],
      "text/plain": [
       "   id  breite   laenge   stadt\n",
       "0   1  7.2183  51.4754  Bochum\n",
       "1   2  7.0109  51.4572   Essen"
      ]
     },
     "execution_count": 28,
     "metadata": {},
     "output_type": "execute_result"
    }
   ],
   "source": [
    "punkte = pd.read_csv(\"punkte.csv\")\n",
    "punkte"
   ]
  },
  {
   "cell_type": "code",
   "execution_count": 29,
   "metadata": {},
   "outputs": [],
   "source": [
    "point = ET.Element(\"point\")\n",
    "ET.SubElement(point, \"x\").text = str(punkte.loc[0, \"breite\"])\n",
    "ET.SubElement(point, \"y\").text = str(punkte.loc[0, \"laenge\"])\n",
    "ET.SubElement(point, \"city\").text = str(punkte.loc[0, \"stadt\"])\n",
    "xml = ET.ElementTree(point)\n",
    "xml.write(\"punkte.xml\")"
   ]
  }
 ],
 "metadata": {
  "kernelspec": {
   "display_name": "Python 3",
   "language": "python",
   "name": "python3"
  },
  "language_info": {
   "codemirror_mode": {
    "name": "ipython",
    "version": 3
   },
   "file_extension": ".py",
   "mimetype": "text/x-python",
   "name": "python",
   "nbconvert_exporter": "python",
   "pygments_lexer": "ipython3",
   "version": "3.7.9"
  }
 },
 "nbformat": 4,
 "nbformat_minor": 4
}
